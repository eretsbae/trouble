{
 "cells": [
  {
   "cell_type": "code",
   "execution_count": 24,
   "metadata": {},
   "outputs": [
    {
     "name": "stdout",
     "output_type": "stream",
     "text": [
      "1 11 12\n"
     ]
    }
   ],
   "source": [
    "# A1: [2-2-기본1]잃어버린 페이지\n",
    "total_pages, page = [int(x) for x in input().split()]\n",
    "\n",
    "# if total_pages // 2 >= page:\n",
    "#     # 왼쪽에 있는 경우\n",
    "#     if page % 2 != 0:\n",
    "#         # 홀수 인 경우\n",
    "#         print(page+1, total_pages-page, total_pages-page+1)\n",
    "#     else:\n",
    "#         # 짝수 인 경우\n",
    "#         print(page-1, total_pages-page+1, total_pages-page+1+1)\n",
    "# else:\n",
    "#     # 오른쪽에 있는 경우\n",
    "#     if page % 2:\n",
    "#         # 홀수 인 경우\n",
    "#         print(total_pages-page, total_pages-page+1, page+1)\n",
    "#     else:   \n",
    "#         # 짝수 인 경우\n",
    "#         print(total_pages-page+1, total_pages-page+1+1, page-1)\n",
    "\n",
    "# if page%2: # 홀수인 경우\n",
    "#     x = page+1, total_pages-page, total_pages-page+1\n",
    "# else:\n",
    "#     x = page-1, total_pages-page+1, total_pages-page+1+1\n",
    "\n",
    "# l = sorted(x)\n",
    "# print(*l)\n",
    "\n",
    "# if page%2: # 홀수인 경우\n",
    "#     x = [page+1, total_pages-page, total_pages-page+1]\n",
    "# else:\n",
    "#     x = [page-1, total_pages-page+1, total_pages-page+1+1]\n",
    "\n",
    "# x.sort()\n",
    "# print(*x)\n",
    "\n",
    "m = page % 2\n",
    "x = page-1 + 2*m, (total_pages-page+1) - m, (total_pages-page+2) - m\n",
    "print(*x)"
   ]
  },
  {
   "cell_type": "code",
   "execution_count": 54,
   "metadata": {},
   "outputs": [
    {
     "name": "stdout",
     "output_type": "stream",
     "text": [
      "3.300000 -7.000000\n"
     ]
    }
   ],
   "source": [
    "# [2-2-응용1]가장 가까운 실수와 가장 먼 실수\n",
    "nums = sorted([float(x) for x in input().split()])\n",
    "diff = [abs(num-3.5) for num in nums]\n",
    "print(f'{nums[diff.index(min(diff))]:f}',\n",
    "      f'{nums[diff.index(max(diff))]:f}')"
   ]
  },
  {
   "cell_type": "code",
   "execution_count": 85,
   "metadata": {},
   "outputs": [
    {
     "name": "stdout",
     "output_type": "stream",
     "text": [
      "30 0 0\n"
     ]
    }
   ],
   "source": [
    "# A3: [2-2-실전1]전자레인지\n",
    "a, b, c = 5*60, 1*60, 10\n",
    "t = int(input())\n",
    "\n",
    "if t % 10:\n",
    "    print(-1)\n",
    "else:\n",
    "    print(t//a, (t%a) // b, (t%b) // c )"
   ]
  },
  {
   "cell_type": "code",
   "execution_count": null,
   "metadata": {},
   "outputs": [],
   "source": [
    "# A4: [2-2-실전2]주차요금\n",
    "l = [int(input()) for _ in range(int(input()))]\n",
    "\n",
    "def cost(i:int) -> int:\n",
    "    if i < 10: return 0\n",
    "    if i <= 30: return 500\n",
    "    \n",
    "    t = i-30\n",
    "    f = 500 + t//10 * 300\n",
    "    if t%10: f+= 300\n",
    "    if f > 50_000: f = 50_000\n",
    "    \n",
    "    return f\n",
    "\n",
    "    \n",
    "print(sum([cost(l2) for l2 in l]))"
   ]
  },
  {
   "cell_type": "code",
   "execution_count": 134,
   "metadata": {},
   "outputs": [
    {
     "name": "stdout",
     "output_type": "stream",
     "text": [
      "7 8 1\n"
     ]
    }
   ],
   "source": [
    "# A5: [2-2-실전3]모범생\n",
    "n = int(input())\n",
    "s = [int(a) for a in input().split()]\n",
    "s_id = [(score, i+1) for i, score in enumerate(s)]\n",
    "print(*[id for score, id in sorted(s_id, key=lambda x: (-x[0], x[1]))[:3]])\n"
   ]
  },
  {
   "cell_type": "code",
   "execution_count": null,
   "metadata": {},
   "outputs": [
    {
     "name": "stdout",
     "output_type": "stream",
     "text": [
      "29 30\n"
     ]
    }
   ],
   "source": [
    "# A8: [2-3-기본1]찢어진 책\n",
    "n, s = [int(x) for x in input().split()]\n",
    "total = sum(range(1, n+1))\n",
    "d = total - s\n",
    "p = d // 2\n",
    "\n",
    "if d%2 and p%2 and p in range(1, n+1):\n",
    "    print(p, p+1)\n",
    "else:\n",
    "    print('Error')\n"
   ]
  },
  {
   "cell_type": "code",
   "execution_count": null,
   "metadata": {},
   "outputs": [],
   "source": [
    "# A9: [2-3-응용1]숫자근\n",
    "a = [int(input()) for _ in range(int(input()))]\n",
    "\n",
    "def digit_root(i:int) -> int:\n",
    "    while i >= 10:\n",
    "        i = sum([int(a) for a in str(i)])\n",
    "    return i\n",
    "\n",
    "b = [(x,digit_root(x)) for x in a]\n",
    "print(sorted(b, reverse=True, key=lambda x: (x[1], -x[0]))[0][0])"
   ]
  },
  {
   "cell_type": "code",
   "execution_count": null,
   "metadata": {},
   "outputs": [],
   "source": [
    "# B0: [2-3-실전1]그릇\n",
    "a = input()\n",
    "height = 10\n",
    "height += sum([5 if a[i] == a[i-1] else 10 for i in range(1, len(a))])\n",
    "\n",
    "print(height)"
   ]
  },
  {
   "cell_type": "code",
   "execution_count": null,
   "metadata": {},
   "outputs": [],
   "source": [
    "# B1: [2-3-실전2]폭탄 돌리기\n",
    "k = int(input())\n",
    "results = [(int(t), v) for t,v in [input().split() for _ in range(int(input()))]]\n",
    "\n",
    "current = k\n",
    "total_time = 0\n",
    "for t, v in results:\n",
    "    total_time += t\n",
    "    if total_time > 210:\n",
    "        break\n",
    "    if (v == 'T'):\n",
    "        current = (current % 8) + 1\n",
    "\n",
    "print(current)"
   ]
  },
  {
   "cell_type": "code",
   "execution_count": null,
   "metadata": {},
   "outputs": [
    {
     "name": "stdout",
     "output_type": "stream",
     "text": [
      "10\n"
     ]
    }
   ],
   "source": [
    "# B2: [2-3-실전3]행복한 수\n",
    "n = int(input())\n",
    "\n",
    "def happy(n: int) -> bool:\n",
    "    dump = set() # list를 쓰면 조금 더 빠름...\n",
    "    while n != 1 and n not in dump:\n",
    "        dump.add(n)\n",
    "        n = sum(int(x) ** 2 for x in str(n))\n",
    "        if n == 1: return True\n",
    "\n",
    "for i in range(n, 0, -1):\n",
    "    if happy(i):\n",
    "        print(i)\n",
    "        break"
   ]
  },
  {
   "cell_type": "code",
   "execution_count": null,
   "metadata": {},
   "outputs": [
    {
     "name": "stdout",
     "output_type": "stream",
     "text": [
      "YES\n",
      "NO\n",
      "YES\n",
      "YES\n"
     ]
    }
   ],
   "source": [
    "# B5: [2-4-기본1]합의 회문수\n",
    "\n",
    "def pal(n:str) -> str:\n",
    "    cal = str(int(n)+int(n[::-1]))\n",
    "    if cal[:] == cal[::-1]: return 'YES'\n",
    "    return 'NO'\n",
    "\n",
    "print(*[pal(i) for i in [input() for _ in range(int(input()))]], sep='\\n')"
   ]
  },
  {
   "cell_type": "code",
   "execution_count": null,
   "metadata": {},
   "outputs": [],
   "source": []
  },
  {
   "cell_type": "code",
   "execution_count": null,
   "metadata": {},
   "outputs": [
    {
     "name": "stdout",
     "output_type": "stream",
     "text": [
      "TAERG!! NOHTYP DLROW.\n"
     ]
    }
   ],
   "source": [
    "# B6: [2-4-응용1]문자열 뒤집기Ⅱ\n",
    "a = input()\n",
    "l = []\n",
    "\n",
    "for i in a.split():\n",
    "    if '.' in i:\n",
    "        p = i.index('.')\n",
    "        l.append(i[:p][::-1].upper()+i[p:])\n",
    "    elif '!' in i:\n",
    "        p = i.index('!')\n",
    "        l.append(i[:p][::-1].upper()+i[p:])\n",
    "    else:\n",
    "        l.append(i[::-1].upper())\n",
    "\n",
    "print(*l)"
   ]
  },
  {
   "cell_type": "code",
   "execution_count": null,
   "metadata": {},
   "outputs": [
    {
     "ename": "SyntaxError",
     "evalue": "can't use starred expression here (3530036525.py, line 13)",
     "output_type": "error",
     "traceback": [
      "\u001b[1;36m  Cell \u001b[1;32mIn[92], line 13\u001b[1;36m\u001b[0m\n\u001b[1;33m    base, punc = *matchs\u001b[0m\n\u001b[1;37m                 ^\u001b[0m\n\u001b[1;31mSyntaxError\u001b[0m\u001b[1;31m:\u001b[0m can't use starred expression here\n"
     ]
    }
   ],
   "source": [
    "# B7: [2-4-응용2]문자열 뒤집기Ⅱ (re 활용 재설계)\n",
    "a = input()\n",
    "\n",
    "import re\n",
    "\n",
    "def reverse_words(text):\n",
    "    words = text.split()\n",
    "    result = []\n",
    "    \n",
    "    for word in words:\n",
    "        match = re.match(r'([^.! ]+)([.!]*)', word)\n",
    "        if match:\n",
    "            base, punc = match.groups()\n",
    "            reversed_word = base[::-1].upper() # reverse & uppercase\n",
    "            result.append(reversed_word + punc)\n",
    "            \n",
    "    return ' '.join(result)\n",
    "\n",
    "print(reverse_words(a))"
   ]
  },
  {
   "cell_type": "code",
   "execution_count": 80,
   "metadata": {},
   "outputs": [
    {
     "name": "stdout",
     "output_type": "stream",
     "text": [
      "TAERG!! NOHTYP DLROW.\n"
     ]
    }
   ],
   "source": [
    "print(reverse_words(a))"
   ]
  },
  {
   "cell_type": "code",
   "execution_count": null,
   "metadata": {},
   "outputs": [],
   "source": [
    "import re\n",
    "\n",
    "def reverse_words(text):\n",
    "    words = text.split()  # 공백을 기준으로 문자열을 분할\n",
    "    result = []\n",
    "    \n",
    "    for word in words:\n",
    "        # 뒤에 마침표(.)나 느낌표(!)가 있을 경우 이를 제외한 부분을 뒤집고, 뒤에 있던 기호를 그대로 유지\n",
    "        # 정규식으로 마침표(.)나 느낌표(!)를 분리\n",
    "        match = re.match(r'([a-zA-Z]+)([.?!]*)', word)\n",
    "        if match:\n",
    "            base, punctuation = match.groups()\n",
    "            # 단어 부분을 뒤집고 대문자로 변환\n",
    "            reversed_word = base[::-1].upper()\n",
    "            # 기호는 뒤에 그대로 붙여줌\n",
    "            result.append(reversed_word + punctuation)\n",
    "    \n",
    "    # 최종 결과 반환\n",
    "    return \" \".join(result)\n",
    "\n",
    "# 테스트\n",
    "input_text = \"Great!! Python World.\"\n",
    "output_text = reverse_words(input_text)\n",
    "print(output_text)\n"
   ]
  },
  {
   "cell_type": "code",
   "execution_count": 94,
   "metadata": {},
   "outputs": [
    {
     "name": "stdout",
     "output_type": "stream",
     "text": [
      "TAERG!! NOHTYP DLROW.\n"
     ]
    }
   ],
   "source": [
    "import re\n",
    "\n",
    "r = re.findall('([^.! ]+)([.!]*)', input())\n",
    "print(*[a[::-1].upper() + b for a,b in r])"
   ]
  },
  {
   "cell_type": "code",
   "execution_count": 97,
   "metadata": {},
   "outputs": [
    {
     "name": "stdout",
     "output_type": "stream",
     "text": [
      "emeodd\n"
     ]
    }
   ],
   "source": [
    "import re\n",
    "\n",
    "r = re.findall('[a-zA-Z]{,10}', input())\n",
    "print(r[0][::-1])"
   ]
  },
  {
   "cell_type": "code",
   "execution_count": 132,
   "metadata": {},
   "outputs": [
    {
     "data": {
      "text/plain": [
       "'abcdefghijklmnopqrstuvwxyzABCDEFGHIJKLMNOPQRSTUVWXYZ'"
      ]
     },
     "execution_count": 132,
     "metadata": {},
     "output_type": "execute_result"
    }
   ],
   "source": [
    "import string\n",
    "string.ascii_letters"
   ]
  },
  {
   "cell_type": "code",
   "execution_count": null,
   "metadata": {},
   "outputs": [
    {
     "name": "stdout",
     "output_type": "stream",
     "text": [
      "Error\n"
     ]
    }
   ],
   "source": [
    "l = 'abcdefghijklmnopqrstuvwxyz'\n",
    "u = l.upper()\n",
    "n = input()\n",
    "\n",
    "print('Error' if not n.isalpha() else \n",
    "      l[:l.index(n)+1] if n in l else\n",
    "      u[u.index(n):])"
   ]
  },
  {
   "cell_type": "code",
   "execution_count": 125,
   "metadata": {},
   "outputs": [
    {
     "name": "stdout",
     "output_type": "stream",
     "text": [
      "abcdef\n"
     ]
    }
   ],
   "source": [
    "a = input().strip()\n",
    "\n",
    "if 'a' <= a <= 'z':\n",
    "    print(*[chr(char) for char in range(ord('a'), ord(a)+1)], sep='')\n",
    "elif 'A' <= a <= 'Z':\n",
    "    print(*[chr(char) for char in range(ord(a), ord('Z')+1)], sep='')\n",
    "else: print('Error')"
   ]
  },
  {
   "cell_type": "code",
   "execution_count": 137,
   "metadata": {},
   "outputs": [
    {
     "ename": "ValueError",
     "evalue": "not enough values to unpack (expected 2, got 1)",
     "output_type": "error",
     "traceback": [
      "\u001b[1;31m---------------------------------------------------------------------------\u001b[0m",
      "\u001b[1;31mValueError\u001b[0m                                Traceback (most recent call last)",
      "Cell \u001b[1;32mIn[137], line 2\u001b[0m\n\u001b[0;32m      1\u001b[0m \u001b[38;5;66;03m# C0: [2-4-실전3]Two Strings\u001b[39;00m\n\u001b[1;32m----> 2\u001b[0m t \u001b[38;5;241m=\u001b[39m [(x,y) \u001b[38;5;28;01mfor\u001b[39;00m x,y \u001b[38;5;129;01min\u001b[39;00m [\u001b[38;5;28minput\u001b[39m() \u001b[38;5;28;01mfor\u001b[39;00m _ \u001b[38;5;129;01min\u001b[39;00m \u001b[38;5;28mrange\u001b[39m(\u001b[38;5;28mint\u001b[39m(\u001b[38;5;28minput\u001b[39m()))]]\n",
      "\u001b[1;31mValueError\u001b[0m: not enough values to unpack (expected 2, got 1)"
     ]
    }
   ],
   "source": [
    "# C0: [2-4-실전3]Two Strings\n",
    "t = [(x,y) for x,y in [input() for _ in range(int(input()))]]"
   ]
  },
  {
   "cell_type": "code",
   "execution_count": null,
   "metadata": {},
   "outputs": [
    {
     "data": {
      "text/plain": [
       "['a', 'b']"
      ]
     },
     "execution_count": 135,
     "metadata": {},
     "output_type": "execute_result"
    }
   ],
   "source": [
    "for _ in range(int(input())):\n",
    "    a = input()\n",
    "    b = input()\n",
    "    if set(a) & set(b):\n",
    "        print('YES')\n",
    "    else:\n",
    "        print('NO')"
   ]
  },
  {
   "cell_type": "code",
   "execution_count": null,
   "metadata": {},
   "outputs": [
    {
     "name": "stdout",
     "output_type": "stream",
     "text": [
      "YES NO\n"
     ]
    }
   ],
   "source": [
    "print(*['YES' if set(a) & set(b) else 'NO' for a,b\n",
    "        in [(input(), input()) for _ in range(int(input()))]], sep='\\n')"
   ]
  },
  {
   "cell_type": "code",
   "execution_count": 3,
   "metadata": {},
   "outputs": [
    {
     "name": "stdout",
     "output_type": "stream",
     "text": [
      "1A2B\n"
     ]
    }
   ],
   "source": [
    "# C3: [2-5-기본1]숫자맞추기\n",
    "x,y = input().split()\n",
    "a,b = 0,0\n",
    "\n",
    "for i in range(len(x)):\n",
    "    for j in range(len(y)):\n",
    "        if x[i] == y[j]:\n",
    "            if i == j:\n",
    "                a += 1\n",
    "            else: b += 1\n",
    "            \n",
    "print(f'{a}A{b}B')"
   ]
  },
  {
   "cell_type": "code",
   "execution_count": 11,
   "metadata": {},
   "outputs": [
    {
     "name": "stdout",
     "output_type": "stream",
     "text": [
      "3A0B\n"
     ]
    }
   ],
   "source": [
    "x, y = input().split()\n",
    "\n",
    "# a = sum(1 for i in range(len(x)) if x[i] == y[i])\n",
    "# b = sum(1 for i in range(len(x)) for j in range(len(y))\n",
    "#                              if i != j and x[i] == y[j])\n",
    "\n",
    "# a = sum(m == n for m,n in zip(x,y))\n",
    "# b = sum(m in y for m in x) - a\n",
    "\n",
    "a = sum(m == n for m,n in zip(x,y))\n",
    "b = len(set(x) & set(y)) - a\n",
    "\n",
    "\n",
    "print(f'{a}A{b}B')\n"
   ]
  },
  {
   "cell_type": "code",
   "execution_count": null,
   "metadata": {},
   "outputs": [
    {
     "name": "stdout",
     "output_type": "stream",
     "text": [
      "7\n",
      "8\n",
      "10\n",
      "13\n",
      "19\n",
      "20\n",
      "23\n"
     ]
    }
   ],
   "source": [
    "l = [int(input()) for _ in range(9)]\n",
    "d = sum(l) - 100\n",
    "\n",
    "for i,x in enumerate(l[:-1], 1):\n",
    "    for y in l[i:]:\n",
    "        if x+y == d:\n",
    "            break\n",
    "    else:\n",
    "        continue\n",
    "    break\n",
    "\n",
    "e = [x, y]\n",
    "out = [m for m in l if m not in e]\n",
    "out.sort()\n",
    "print(*out, sep='\\n')"
   ]
  },
  {
   "cell_type": "code",
   "execution_count": null,
   "metadata": {},
   "outputs": [],
   "source": [
    "l = [int(input()) for _ in range(9)]\n",
    "d = sum(l) - 100\n",
    "\n",
    "for i, x in enumerate(l):\n",
    "    for y in l[i+1:]:\n",
    "        if x + y == d:\n",
    "            l.remove(x)\n",
    "            l.remove(y)\n",
    "            l.sort()\n",
    "            print(*l, sep='\\n')\n",
    "            exit()\n"
   ]
  },
  {
   "cell_type": "code",
   "execution_count": 53,
   "metadata": {},
   "outputs": [
    {
     "data": {
      "text/plain": [
       "[7, 8, 10, 13, 15, 19, 20, 23, 25]"
      ]
     },
     "execution_count": 53,
     "metadata": {},
     "output_type": "execute_result"
    }
   ],
   "source": [
    "[m for m in l if m not in \n",
    "    [(x, d-x) if d-x in l[i:] else None for i, x in enumerate(l[:-1], 1)]]"
   ]
  },
  {
   "cell_type": "code",
   "execution_count": null,
   "metadata": {},
   "outputs": [],
   "source": [
    "# for i, x in enumerate(l[:-1], 1):\n",
    "#     if d-x in l[i:]:\n",
    "#         y = d-x\n",
    "#         break\n",
    "\n",
    "# e = [x, y]\n",
    "# out = [m for m in l if m not in e].sort()\n",
    "# print(*out, sep='\\n')\n",
    "\n",
    "l = [int(input()) for _ in range(9)]\n",
    "d = sum(l) - 100\n",
    "\n",
    "print(*sorted([x for x in l if not (d-x in l and d-x != x)]), sep='\\n')"
   ]
  },
  {
   "cell_type": "code",
   "execution_count": 58,
   "metadata": {},
   "outputs": [],
   "source": [
    "# C5: [2-5-실전1]주사위\n",
    "l = [int(x) for x in input().split()]"
   ]
  },
  {
   "cell_type": "code",
   "execution_count": null,
   "metadata": {},
   "outputs": [],
   "source": [
    "d = [(a,b,c) for a,b,c in l]"
   ]
  },
  {
   "cell_type": "code",
   "execution_count": null,
   "metadata": {},
   "outputs": [],
   "source": [
    "n1, n2, n3 = map(int, input().split())\n",
    "\n",
    "l = [sum((x,y,z)) for x in range(1, n1+1) \n",
    "                  for y in range(1, n2+1)\n",
    "                  for z in range(1, n3+1)]\n",
    "\n",
    "d = {k:l.count(k) for k in l}\n",
    "\n",
    "key = min((k for k, v in d.items() if v == max(d.values())), key=lambda x: x)\n",
    "print(key)\n",
    "\n",
    "print(max(sorted(set(l)), key=l.count))\n"
   ]
  },
  {
   "cell_type": "code",
   "execution_count": 138,
   "metadata": {},
   "outputs": [
    {
     "name": "stdout",
     "output_type": "stream",
     "text": [
      "1+1=2\n"
     ]
    }
   ],
   "source": [
    "# C6: [2-5-실전2]덧셈(Plus)\n",
    "s, x = input().split()\n",
    "x = int(x)\n",
    "l = ([f'{int(s[:i])}+{int(s[i:])}={x}' for i in range(1, len(s)) \n",
    "                        #    if int(s[:i]) + int(s[i:]) == x ] \n",
    "                             if eval(f'{s[:i]}+{int(s[i:])}') == x ]\n",
    "     + ['NONE'])\n",
    "\n",
    "print(l[0])"
   ]
  },
  {
   "cell_type": "code",
   "execution_count": 142,
   "metadata": {},
   "outputs": [
    {
     "name": "stdout",
     "output_type": "stream",
     "text": [
      "1.638\n"
     ]
    }
   ],
   "source": [
    "# C7: [2-5-실전3]연속부분최대곱\n",
    "l = [float(input()) for _ in range(int(input()))]\n",
    "\n",
    "result = 0\n",
    "\n",
    "# for i in range(len(l)):\n",
    "#     p = 1\n",
    "#     for j in range(i, len(l)):\n",
    "#         p *= l[j]\n",
    "#         result = max(result, p)\n",
    "\n",
    "# p = 1\n",
    "\n",
    "# for x in l:\n",
    "#     p *= x\n",
    "#     if p < x: p = x\n",
    "#     if p > result: result = p\n",
    "\n",
    "p = 1\n",
    "for x in l:\n",
    "    p *= x\n",
    "    p = max(p, x)\n",
    "    result = max(result, p)\n",
    "\n",
    "print(f'{result:.3f}')\n",
    "\n"
   ]
  },
  {
   "cell_type": "code",
   "execution_count": null,
   "metadata": {},
   "outputs": [],
   "source": [
    "# D0: [2-6-기본1]행과 열의 큰 값 찾기\n",
    "l = [[int(x) for x in input().split()] \n",
    "             for _ in range(int(input()))]\n",
    "\n",
    "row_sum = [(i, sum(v)) for i,v in enumerate(l, 1)]\n",
    "col_sum = [(i, sum(v)) for i,v in enumerate(zip(*l), 1)]\n",
    "\n",
    "print(max(row_sum, key=lambda x: x[1])[0], max(col_sum, key=lambda x: x[1])[0])\n",
    "\n",
    "# 단순하게 만들고 함수 call 하는 걸 줄이는 연습하기\n",
    "# comprehension을 사용하는게 더 나은지를 항상 검토 해보기"
   ]
  },
  {
   "cell_type": "code",
   "execution_count": null,
   "metadata": {},
   "outputs": [],
   "source": [
    "# D1: [2-6-응용1]사이좋은 이웃\n",
    "n = int(input())\n",
    "l = [[0] + [int(x) for x in input()] +[0] for _ in range(n)]\n",
    "l = [[0]*(n+2)] + l + [[0]*(n+2)]\n",
    "\n",
    "# d = ((-1,-1),(-1,0),(-1,1),\n",
    "#       (0,-1),       (0,1),\n",
    "#       (1,-1), (1,0),(1,1))\n",
    "\n",
    "# def func(r:int, c:int) -> int:\n",
    "#     s = 0\n",
    "#     for dr, dc in d:\n",
    "#         nr, nc = r+dr, c+dc\n",
    "#         s += l[nr][nc]\n",
    "#     return s\n",
    "\n",
    "# a = 0\n",
    "# for i in range(1, 1+n):\n",
    "#     for j in range(1, 1+n):\n",
    "#         if l[i][j]:\n",
    "#             a = max(a, func(i,j))\n",
    "\n",
    "def func(r:int, c:int) -> int:\n",
    "    return sum([sum(lr[c-1:c-1+3]) for lr in l[r-1:r-1+3]]) -1 \n",
    "\n",
    "print(max([ func(i,j) for i, x in enumerate(l[1:1+n],1) \n",
    "                      for j, y in enumerate(x[1:1+n],1)\n",
    "                          if y == 1]))\n",
    "\n",
    "print(a)"
   ]
  },
  {
   "cell_type": "code",
   "execution_count": null,
   "metadata": {},
   "outputs": [],
   "source": [
    "m = ['0' + input().replace(' ', '') + '0' for _ in range(10)]\n",
    "m = ['0' * 12] + m + ['0' * 12]"
   ]
  },
  {
   "cell_type": "code",
   "execution_count": 35,
   "metadata": {},
   "outputs": [],
   "source": [
    "def func(r, c):\n",
    "    return sum(m[r+i][c+i] for i in range(3) for j in range(3))"
   ]
  },
  {
   "cell_type": "code",
   "execution_count": 288,
   "metadata": {},
   "outputs": [
    {
     "ename": "ValueError",
     "evalue": "invalid literal for int() with base 10: '2 3'",
     "output_type": "error",
     "traceback": [
      "\u001b[1;31m---------------------------------------------------------------------------\u001b[0m",
      "\u001b[1;31mValueError\u001b[0m                                Traceback (most recent call last)",
      "Cell \u001b[1;32mIn[288], line 1\u001b[0m\n\u001b[1;32m----> 1\u001b[0m n \u001b[38;5;241m=\u001b[39m \u001b[38;5;28;43mint\u001b[39;49m\u001b[43m(\u001b[49m\u001b[38;5;28;43minput\u001b[39;49m\u001b[43m(\u001b[49m\u001b[43m)\u001b[49m\u001b[43m)\u001b[49m\n\u001b[0;32m      2\u001b[0m m \u001b[38;5;241m=\u001b[39m [\u001b[38;5;124m'\u001b[39m\u001b[38;5;124m0\u001b[39m\u001b[38;5;124m'\u001b[39m \u001b[38;5;241m+\u001b[39m \u001b[38;5;28minput\u001b[39m() \u001b[38;5;241m+\u001b[39m \u001b[38;5;124m'\u001b[39m\u001b[38;5;124m0\u001b[39m\u001b[38;5;124m'\u001b[39m \u001b[38;5;28;01mfor\u001b[39;00m _ \u001b[38;5;129;01min\u001b[39;00m \u001b[38;5;28mrange\u001b[39m(n)]\n\u001b[0;32m      3\u001b[0m m \u001b[38;5;241m=\u001b[39m [\u001b[38;5;124m'\u001b[39m\u001b[38;5;124m0\u001b[39m\u001b[38;5;124m'\u001b[39m \u001b[38;5;241m*\u001b[39m (n\u001b[38;5;241m+\u001b[39m\u001b[38;5;241m2\u001b[39m)] \u001b[38;5;241m+\u001b[39m m \u001b[38;5;241m+\u001b[39m [\u001b[38;5;124m'\u001b[39m\u001b[38;5;124m0\u001b[39m\u001b[38;5;124m'\u001b[39m\u001b[38;5;241m*\u001b[39m(n\u001b[38;5;241m+\u001b[39m\u001b[38;5;241m2\u001b[39m)]\n",
      "\u001b[1;31mValueError\u001b[0m: invalid literal for int() with base 10: '2 3'"
     ]
    }
   ],
   "source": [
    "n = int(input())\n",
    "m = ['0' + input() + '0' for _ in range(n)]\n",
    "m = ['0' * (n+2)] + m + ['0'*(n+2)]\n",
    "\n",
    "def func(r, c):\n",
    "    return sum([ mr[c-1:c-1+3].count('1') for mr in m[r-1:r-1+3]]) -1\n",
    "\n",
    "print(max([ func(i,j) for i, x in enumerate(m[1:1+n],1) \n",
    "                      for j, y in enumerate(x[1:1+n],1)\n",
    "                          if y == '1']))"
   ]
  },
  {
   "cell_type": "code",
   "execution_count": null,
   "metadata": {},
   "outputs": [],
   "source": [
    "# D2: [2-6-응용2]악수\n",
    "r,c = map(int, input().split())\n",
    "\n",
    "m  = ['.' + input() + '.' for _ in range(r)]\n",
    "m = ['.' * (c+2)] + m + ['.' * (c+2)]\n",
    "\n",
    "def func(r,c):\n",
    "    return sum([ mr[c-1:c-1+3].count('o') for mr in m[r-1:r-1+3]])\n",
    "\n",
    "# 이웃은 나누기 2\n",
    "\n",
    "a = sum([\n",
    "    func(i, j) -1 for i in range(1, r+1)\n",
    "                  for j in range(1, c+1)\n",
    "                      if m[i][j] == 'o'\n",
    "]) // 2\n",
    "\n",
    "\n",
    "# 민혁이는 max 값\n",
    "b = [\n",
    "    func(i,j) for i, y in enumerate(m[1:r+1], 1)\n",
    "              for j, x in enumerate(y[1:c+1], 1)\n",
    "                  if x == '.' \n",
    "]\n",
    "\n",
    "# 구해서 더하기\n",
    "# b = max(b) if b else 0\n",
    "b = max(b+[0])\n",
    "print(a+b)\n"
   ]
  },
  {
   "cell_type": "code",
   "execution_count": null,
   "metadata": {},
   "outputs": [
    {
     "ename": "ValueError",
     "evalue": "invalid literal for int() with base 10: ''",
     "output_type": "error",
     "traceback": [
      "\u001b[1;31m---------------------------------------------------------------------------\u001b[0m",
      "\u001b[1;31mValueError\u001b[0m                                Traceback (most recent call last)",
      "Cell \u001b[1;32mIn[350], line 2\u001b[0m\n\u001b[0;32m      1\u001b[0m \u001b[38;5;66;03m# D3: [2-6-실전1]배열 회전\u001b[39;00m\n\u001b[1;32m----> 2\u001b[0m n \u001b[38;5;241m=\u001b[39m \u001b[38;5;28;43mint\u001b[39;49m\u001b[43m(\u001b[49m\u001b[38;5;28;43minput\u001b[39;49m\u001b[43m(\u001b[49m\u001b[43m)\u001b[49m\u001b[43m)\u001b[49m\n\u001b[0;32m      3\u001b[0m m \u001b[38;5;241m=\u001b[39m [\u001b[38;5;28minput\u001b[39m()\u001b[38;5;241m.\u001b[39msplit() \u001b[38;5;28;01mfor\u001b[39;00m _ \u001b[38;5;129;01min\u001b[39;00m \u001b[38;5;28mrange\u001b[39m(n)]\n\u001b[0;32m      4\u001b[0m r \u001b[38;5;241m=\u001b[39m \u001b[38;5;28mint\u001b[39m(\u001b[38;5;28minput\u001b[39m())\n",
      "\u001b[1;31mValueError\u001b[0m: invalid literal for int() with base 10: ''"
     ]
    }
   ],
   "source": [
    "# D3: [2-6-실전1]배열 회전\n",
    "n = int(input())\n",
    "m = [input().split() for _ in range(n)]\n",
    "r = int(input())\n",
    "\n",
    "# def rot(m:list, r:int) -> list:\n",
    "#     if r == 90:\n",
    "#         a = list(zip(*m[::-1]))\n",
    "#         return a\n",
    "#     elif r == 180:\n",
    "#         a = list(zip(*m[::-1]))\n",
    "#         a = list(zip(*a[::-1]))\n",
    "#         return a\n",
    "#     elif r == 270:\n",
    "#         a = list(zip(*m[::-1]))\n",
    "#         a = list(zip(*a[::-1]))\n",
    "#         a = list(zip(*a[::-1]))\n",
    "#         return a\n",
    "#     else:\n",
    "#         return m\n",
    "    \n",
    "# print(*[' '.join(x) for x in rot(m, r)], sep='\\n')\n",
    "\n",
    "d = r // 90 % 4\n",
    "for _ in range(d):\n",
    "    l = list(zip(*l[::-1]))\n",
    "\n",
    "# print([' '.join(x) for x in l], sep='\\n')\n",
    "# print('\\n'.join([' '.join(str(c) for c in x) for x in l]))\n",
    "\n",
    "('{} ' * len(t))[:-1].format(*t)\n",
    "print('\\n'.join([('{} ' * len(t))[:-1].format(*t) for t in l]))"
   ]
  },
  {
   "cell_type": "code",
   "execution_count": null,
   "metadata": {},
   "outputs": [],
   "source": [
    "# D4: [2-6-실전2]색종이(초)\n",
    "l = [[int(x) for x in input().split()] for _ in range(int(input()))]\n",
    "m = [[0] * 100 for _ in range(100)]\n",
    "\n",
    "for c, r in l:\n",
    "    for mr in m[r:r+10]:\n",
    "        mr[c:c+10] = [1] * 10\n",
    "    \n",
    "    # for i in range(r, r+10):\n",
    "    #     for j in range(c, c+10):\n",
    "    #         m[i][j] = 1\n",
    "    \n",
    "print(sum([sum(x) for x in m]))"
   ]
  },
  {
   "cell_type": "code",
   "execution_count": null,
   "metadata": {},
   "outputs": [],
   "source": [
    "# D5: [2-6-실전3]색종이(중)\n",
    "l = [[int(x) for x in input().split()] for _ in range(int(input()))]\n",
    "m = [[0] * 102 for _ in range(102)]\n",
    "\n",
    "for c, r in l:\n",
    "    for mr in m[r+1:r+11]:\n",
    "        mr[c+1:c+11] = [1] * 10\n",
    "        \n",
    "# 한줄씩 읽어서 같은 list이면 0, 아니면 1\n",
    "sr = [sum([x != y for x,y in zip(mr[:-1],mr[1:])]) for mr in m]\n",
    "sc = [sum([x != y for x,y in zip(mc[:-1], mc[1:])]) for mc in zip(*m)]\n",
    "\n",
    "print(sum(sr) + sum(sc))"
   ]
  },
  {
   "cell_type": "code",
   "execution_count": null,
   "metadata": {},
   "outputs": [],
   "source": [
    "# D6: [2-6-실전4]같은 모양 찾기 simple\n",
    "n = int(input())\n",
    "m = [input() for _ in range(n)]\n",
    "s = int(input())\n",
    "p = [input() for _ in range(s)]\n",
    "\n",
    "# def func(r,c) -> bool:\n",
    "#     return [mr[c:c+s] for mr in m[r:r+s]] == p\n",
    "\n",
    "# print(sum([func(i,j) for i in range(len(m)-s+1)\n",
    "#                      for j in range(len(m)-s+1)]))\n",
    "\n",
    "print(sum([[mr[j:j+s] for mr in m[i:i+s]] == p\n",
    "                           for i in range(len(m)-s+1)\n",
    "                           for j in range(len(m)-s+1)]))"
   ]
  },
  {
   "cell_type": "code",
   "execution_count": 429,
   "metadata": {},
   "outputs": [
    {
     "name": "stdout",
     "output_type": "stream",
     "text": [
      "1\n"
     ]
    }
   ],
   "source": [
    "print(sum([[mr[j:j+s] for mr in m[i:i+s]] == p\n",
    "                           for i in range(len(m)-s+1)\n",
    "                           for j in range(len(m)-s+1)]))"
   ]
  },
  {
   "cell_type": "code",
   "execution_count": null,
   "metadata": {},
   "outputs": [
    {
     "name": "stdout",
     "output_type": "stream",
     "text": [
      "0/1\n",
      "1/5\n",
      "1/4\n",
      "1/3\n",
      "2/5\n",
      "1/2\n",
      "3/5\n",
      "2/3\n",
      "3/4\n",
      "4/5\n",
      "1/1\n"
     ]
    }
   ],
   "source": [
    "# E0: [2-7-기본1]분수 정렬\n",
    "n = int(input())\n",
    "\n",
    "# d = {j/i:f'{j}/{i}' for i in range(n,0,-1)\n",
    "#                     for j in range(i,-1,-1)}\n",
    "\n",
    "# print(*list(zip(*sorted(d.items())))[1], sep='\\n')\n",
    "\n",
    "\n",
    "\n",
    "print('\\n'.join(list(zip(*sorted(d.items())))[1]))"
   ]
  },
  {
   "cell_type": "code",
   "execution_count": null,
   "metadata": {},
   "outputs": [
    {
     "name": "stdout",
     "output_type": "stream",
     "text": [
      "a\n",
      "a\n"
     ]
    }
   ],
   "source": [
    "# E1: [2-7-응용1]가장 많은 알파벳은?\n",
    "import string as st\n",
    "\n",
    "s = input()\n",
    "# l = [(x, s.count(x)) for x in sorted(set(s)) if x.islower()]\n",
    "\n",
    "l = [(x, s.count(x)) for x in st.ascii_lowercase if x in s]\n",
    "\n",
    "print(max(l, key=lambda x: x[1])[0])\n",
    "# print(max(l, key=lambda x: (x[1],-ord(x[0])))[0])"
   ]
  },
  {
   "cell_type": "code",
   "execution_count": 557,
   "metadata": {},
   "outputs": [],
   "source": [
    "# E2: [2-7-응용2]가장 많은 알파벳은? (collections 활용 재설계)\n",
    "import collections as cll"
   ]
  },
  {
   "cell_type": "code",
   "execution_count": null,
   "metadata": {},
   "outputs": [],
   "source": [
    "# E3: [2-7-실전1]문자열 변환\n",
    "\n",
    "d = {k:v for k,v in [input().split() for _ in range(int(input()))]}\n",
    "# d = {k:v for _ in range(int(input()))\n",
    "#            for k,v in [input().split()]}\n",
    "l = [input() for _ in range(int(input()))]\n",
    "\n",
    "# print(''.join([d[x] if x in d.keys() else x for x in l]))\n",
    "# print(''.join([d[x] if x in d else x for x in l]))\n",
    "print(''.join([d.get(x,x) for x in l]))"
   ]
  },
  {
   "cell_type": "code",
   "execution_count": null,
   "metadata": {},
   "outputs": [],
   "source": [
    "# E4: [2-7-실전2]단어 세기\n",
    "while True:\n",
    "    s = input()\n",
    "    if s == 'END': break\n",
    "    s = s.split()\n",
    "    print('\\n'.join([ f'{x} : {s.count(x)}' for x in sorted(set(s))]))"
   ]
  },
  {
   "cell_type": "code",
   "execution_count": null,
   "metadata": {},
   "outputs": [],
   "source": [
    "# E5: [2-7-추가1]UNIQUENESS\n",
    "n = int(input())\n",
    "l = input().split()\n",
    "d = {k: [] for k in l}\n",
    "# from collections import defaultdict\n",
    "# d = defaultdict(list)\n",
    "[ d[k].append(i) for i, k in enumerate(l, 1)]\n",
    "\n",
    "print('\\n'.join([ f'{k}'+(' {}'*len(v)).format(*v) for k,v in d.items()\n",
    "                    if len(v) >=2])\n",
    "                if len(d) != len(l) else \"unique\" )"
   ]
  },
  {
   "cell_type": "code",
   "execution_count": null,
   "metadata": {},
   "outputs": [],
   "source": [
    "# E8: [2-8-기본1]미로 탈출 로봇\n",
    "\n",
    "\n",
    "c, r = map(int, input().split())\n",
    "sc, sr, ec, er = map(int, input().split())\n",
    "\n",
    "ma = [[1]+[int(x) for x in input()]+[1]\n",
    "                                for _ in range(r)]\n",
    "ma = [[1]*(c+2)] + ma + [[1]*(c+2)]\n",
    "cm = [[0]*(c+2) for _ in range(r+2)]\n",
    "\n",
    "d = ((-1,0),(1,0),(0,-1),(0,1))\n",
    "\n",
    "from collections import deque\n",
    "\n",
    "def BFS():\n",
    "    q = deque()\n",
    "    q.append((sr, sc, 0))\n",
    "    cm[sr][sc] = 1\n",
    "    \n",
    "    while q:\n",
    "        cr, cc, ct = q.popleft()\n",
    "        if (cr, cc) == (er, ec): return ct # 도착했는지\n",
    "        \n",
    "        for dr, dc in d: # 상하좌우\n",
    "            nr, nc, nt = cr+dr, cc+dc, ct+1\n",
    "            if ma[nr][nc]: continue # 벽이면 못감\n",
    "            if cm[nr][nc]: continue # 갔던 길이면 못감\n",
    "            \n",
    "            q.append((nr, nc, nt)) # enqueue\n",
    "            cm[nr][nc] = 1 # checksum\n",
    "\n",
    "print(BFS())"
   ]
  },
  {
   "cell_type": "code",
   "execution_count": null,
   "metadata": {},
   "outputs": [
    {
     "name": "stdout",
     "output_type": "stream",
     "text": [
      "(9, 0)\n"
     ]
    }
   ],
   "source": [
    "# E9: [2-8-실전1]저글링 방사능 오염\n",
    "c, r = map(int, input().split())\n",
    "ma = [[0]+[int(x) for x in input()] + [0] for _ in range(r)]\n",
    "ma = [[0]*(c+2)] + ma + [[0]*(c+2)]\n",
    "cm = [[0]*(c+2) for _ in range(r+2)]\n",
    "sc, sr = map(int, input().split())\n",
    "\n",
    "d = ((-1,0),(1,0),(0,-1),(0,1))\n",
    "\n",
    "from collections import deque\n",
    "\n",
    "def INF():\n",
    "    q = deque()\n",
    "    q.append((sr, sc, 3))\n",
    "    cm[sr][sc] = 1 # infection\n",
    "    \n",
    "    cnt = sum([sum(x) for x in ma])-1 # 전체 마리수\n",
    "    \n",
    "    while q:\n",
    "        cr,cc,ct = q.popleft()\n",
    "        for dr, dc in d:\n",
    "            nr, nc, nt = cr+dr, cc+dc, ct+1\n",
    "            if ma[nr][nc] == 0: continue # 저글링 없음\n",
    "            if cm[nr][nc] == 1: continue # 이미 죽은 애\n",
    "            q.append((nr, nc, nt))\n",
    "            cm[nr][nc] = 1               # checksum\n",
    "            cnt -= 1                     # count\n",
    "    \n",
    "    return ct, cnt\n",
    "\n",
    "print(*INF(), sep='\\n')"
   ]
  },
  {
   "cell_type": "code",
   "execution_count": null,
   "metadata": {},
   "outputs": [
    {
     "name": "stdout",
     "output_type": "stream",
     "text": [
      "-1\n"
     ]
    }
   ],
   "source": [
    "# F0: [2-8-실전2]토마토(고)\n",
    "c, r = map(int, input().split())\n",
    "ma = [[-1]+[int(x) for x in input().split()] +[-1] for _ in range(r)]\n",
    "ma = [[-1]*(c+2)] + ma + [[-1]*(c+2)]\n",
    "cm = [[0]*(c+2) for _ in range(r+2)]\n",
    "\n",
    "d = ((-1,0),(1,0),(0,-1),(0,1))\n",
    "\n",
    "from collections import deque\n",
    "\n",
    "def TOMATO():\n",
    "    q = deque()\n",
    "    cnt = sum([x.count(0) for x in ma])      # 안 익은 토마토 수\n",
    "    \n",
    "    if cnt == 0: return 0\n",
    "    \n",
    "    # # initialize\n",
    "    # [q.append((i,j,0)) for i in range(1, 1+r)\n",
    "    #                    for j in range(1, 1+c)\n",
    "    #                        if ma[i][j] == 1]\n",
    "    l = [(i,j,0) for i in range(1, 1+r) \n",
    "             for j in range(1, 1+c)\n",
    "                 if ma[i][j] == 1]    \n",
    "    q.extend(l)\n",
    "    \n",
    "    while q:\n",
    "        cr, cc, ct = q.popleft()\n",
    "        for dr, dc in d:\n",
    "            nr, nc, nt = cr+dr, cc+dc, ct+1\n",
    "            if ma[nr][nc] == -1: continue    # 토마토가 없음\n",
    "            if ma[nr][nc] ==  1: continue    # 이미 익었음\n",
    "            \n",
    "            q.append((nr,nc,nt))\n",
    "            ma[nr][nc] = 1\n",
    "            cm[nr][nc] = 1                   # checksum\n",
    "            \n",
    "            cnt -=       1                   # count\n",
    "            if cnt == 0: return nt\n",
    "            \n",
    "    return -1\n",
    "\n",
    "print(TOMATO())"
   ]
  },
  {
   "cell_type": "code",
   "execution_count": 685,
   "metadata": {},
   "outputs": [
    {
     "name": "stdout",
     "output_type": "stream",
     "text": [
      "10\n",
      "5\n"
     ]
    }
   ],
   "source": [
    "l = [int(x) for x in [input() for _ in range(9)]]\n",
    "print(f'{sorted(l)[-1]}\\n{l.index(max(l))+1}')"
   ]
  },
  {
   "cell_type": "code",
   "execution_count": null,
   "metadata": {},
   "outputs": [],
   "source": [
    "n = int(input())\n",
    "l = [input() for _ in range(n)]\n",
    "print(*[sum(int(d) for d in l if len(d) == i) for i in range(3,0,-1)])"
   ]
  },
  {
   "cell_type": "code",
   "execution_count": 11,
   "metadata": {},
   "outputs": [
    {
     "name": "stdout",
     "output_type": "stream",
     "text": [
      "6\n"
     ]
    }
   ],
   "source": [
    "c = input()\n",
    "\n",
    "cnt = 0\n",
    "\n",
    "while c != '6174':\n",
    "    v = ''.join(sorted(c))\n",
    "    vv = int(''.join(v[::-1]))-int(''.join(v))\n",
    "    cnt += 1\n",
    "    c = str(vv)\n",
    "\n",
    "print(cnt)"
   ]
  },
  {
   "cell_type": "code",
   "execution_count": null,
   "metadata": {},
   "outputs": [],
   "source": []
  }
 ],
 "metadata": {
  "kernelspec": {
   "display_name": "Python 3",
   "language": "python",
   "name": "python3"
  },
  "language_info": {
   "codemirror_mode": {
    "name": "ipython",
    "version": 3
   },
   "file_extension": ".py",
   "mimetype": "text/x-python",
   "name": "python",
   "nbconvert_exporter": "python",
   "pygments_lexer": "ipython3",
   "version": "3.13.0"
  }
 },
 "nbformat": 4,
 "nbformat_minor": 2
}
